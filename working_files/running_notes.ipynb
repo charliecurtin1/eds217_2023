{
 "cells": [
  {
   "cell_type": "markdown",
   "metadata": {},
   "source": [
    "## 1-1 Variables and operators"
   ]
  },
  {
   "cell_type": "code",
   "execution_count": 1,
   "metadata": {},
   "outputs": [],
   "source": [
    "a = 5\n",
    "b = 1.0"
   ]
  },
  {
   "cell_type": "code",
   "execution_count": 2,
   "metadata": {},
   "outputs": [],
   "source": [
    "# operating with a float and integer will return a float\n",
    "c = a / b"
   ]
  },
  {
   "cell_type": "code",
   "execution_count": null,
   "metadata": {},
   "outputs": [],
   "source": [
    "# ability to split cells by right clicking on a line -> notebook cell -> split cell\n",
    "# using int() to convert to an integer rounds down, so use round() to round up\n",
    "# using strings, adding apostrophes"
   ]
  },
  {
   "cell_type": "markdown",
   "metadata": {},
   "source": [
    "## 1-2 lists and indexes"
   ]
  },
  {
   "cell_type": "code",
   "execution_count": null,
   "metadata": {},
   "outputs": [],
   "source": [
    "# with lists - 1st element is in the 0 position, last element is in the -1 position (accessed from the end when you dont know the length of the list)\n",
    "# slicing an index- returns the 1st value and up to but not including the last value\n",
    "# difference between a copy and a view?"
   ]
  },
  {
   "cell_type": "markdown",
   "metadata": {},
   "source": [
    "## 2-1 control flow statements"
   ]
  },
  {
   "cell_type": "code",
   "execution_count": null,
   "metadata": {},
   "outputs": [],
   "source": [
    "# if-else-elif statements\n",
    "# how to write python code in markdown?\n",
    "# using 'and' and 'or' in if-else\n",
    "# nesting if statements\n",
    "# for loops\n",
    "# using enumerate() in a for loops to return an item and its position\n",
    "# using zip() to pass two lists in a for loop\n",
    "# using zip() and enumerate() together\n",
    "# while loops"
   ]
  },
  {
   "cell_type": "code",
   "execution_count": null,
   "metadata": {},
   "outputs": [],
   "source": [
    "# Experiment with if, elif, and else statements.\n",
    "pie_size = 12\n",
    "\n",
    "n_peaches = 0\n",
    "\n",
    "if pie_size == 8:\n",
    "    n_peaches = 6\n",
    "elif pie_size == 10:\n",
    "    n_peaches = 9\n",
    "elif pie_size == 12:\n",
    "    n_peaches = 11\n",
    "else:\n",
    "    print('Not a valid pie size')\n",
    "\n",
    "if n_peaches > 0:\n",
    "    print(f'You are going to need {n_peaches} peaches')\n",
    "\n",
    "# assigning n_peaches to 0 saves you lines of code by not writing a print statement in each line of the initial if statement"
   ]
  },
  {
   "cell_type": "code",
   "execution_count": 3,
   "metadata": {},
   "outputs": [
    {
     "name": "stdout",
     "output_type": "stream",
     "text": [
      "Phenylalanine is an essential, aromatic amino acid.\n"
     ]
    }
   ],
   "source": [
    "# thinking about 'and' and 'or' in if else statements\n",
    "# general rule of thumb- go narrow cases first, then broad\n",
    "# it will move down through the if-else statement until it satisfies a condition, so if order is wrong you can return a statement that's wrong\n",
    "essential = ['histidine', 'lysine', 'threonine', 'tryptophan', \n",
    "             'valine', 'methionine', 'leucine', 'phenylalanine']\n",
    "aromatic = ['phenylalanine', 'tryptophan', 'tyrosine']\n",
    "aminoacids = ['histidine', 'isoleucine', 'leucine', 'lysine', 'methionine', \n",
    "              'phenylalanine', 'threonine', 'tryptophan', 'valine', 'alanine', \n",
    "              'arginine', 'asparagine', 'aspartate', 'cysteine', 'glutamate', \n",
    "              'glutamine', 'glycine', 'proline', 'serine', 'tyrosine']\n",
    "\n",
    "\n",
    "aa = 'phenylalanine'\n",
    "\n",
    "if aa in aromatic and aa in essential:\n",
    "    print(aa.capitalize() + ' is an essential, aromatic amino acid.')\n",
    "elif aa in essential:\n",
    "    print(aa.capitalize() + ' is an essential, non-aromatic amino acid.')\n",
    "elif aa in aromatic:\n",
    "    print(aa.capitalize() + ' is a non-essential, aromatic amino acid.')\n",
    "elif aa in aminoacids:\n",
    "    print(aa.capitalize() + 'is a non-essential amino acid.')\n",
    "else:\n",
    "    print(aa.capitalize() + ' is not an amino acid.')"
   ]
  },
  {
   "cell_type": "markdown",
   "metadata": {},
   "source": [
    "## 2-2 structured data"
   ]
  },
  {
   "cell_type": "code",
   "execution_count": null,
   "metadata": {},
   "outputs": [],
   "source": [
    "# lists, dictionaries, sets, tuples\n",
    "# using sorted() on any of the data types returns a sorted list, as long as all of the elements of the collections are the same type. Sorted essentially forces it to be a list\n",
    "# creating dictionaries\n",
    "# extra information about dictionaries\n",
    "# sets\n",
    "# mitigating key errors in dictionaries\n"
   ]
  },
  {
   "cell_type": "markdown",
   "metadata": {},
   "source": [
    "## 3-1: numpy"
   ]
  },
  {
   "cell_type": "code",
   "execution_count": null,
   "metadata": {},
   "outputs": [],
   "source": [
    "# creating arrays\n",
    "# a 1d array is 1 column, and all the values in the vector are passed as rows\n",
    "# think of arrays in rows- i.e., one column with 6 values is equal to 6 rows with 1 value\n",
    "# essentially reads every element as a row\n",
    "# arrays will coerce variable types to prevent computational failures. If you add a string as an element in an array, it will convert all elements to a string. \"ruthlessly optimized for computation\". Numpy will convert to the thing that constrains the computation the most \n",
    "# np.arange()- works like range(), really handy for generating x-values to feed into a function\n",
    "# array slicing\n",
    "# all sorts of operations with numpy- pretty much all of them\n",
    "# remember functions like maxes and mins, means\n",
    "# core functions for interrogating what arrays look like - dim, shape, size, dtype"
   ]
  },
  {
   "cell_type": "markdown",
   "metadata": {},
   "source": [
    "## lecture 0-1: the zen of python"
   ]
  },
  {
   "cell_type": "code",
   "execution_count": null,
   "metadata": {},
   "outputs": [],
   "source": [
    "# exceptions allow you to move up and down through code and point to where a problem is, rather than just halting that code chunk"
   ]
  },
  {
   "cell_type": "markdown",
   "metadata": {},
   "source": [
    "## 4-1 pandas"
   ]
  },
  {
   "cell_type": "code",
   "execution_count": null,
   "metadata": {},
   "outputs": [],
   "source": [
    "# series and dataframes - series are like an array, but can have a column name\n",
    "# importing data can sometimes import it as type \"object\" where it just doesn't really know what type it is\n",
    "# creating data frames in pandas, functions to explore or describe data frames\n",
    "# indexing in pandas is different, uses df.iloc()\n",
    "# indexing one row or column returns it as a series, not as a dataframe because its only one dimensional\n",
    "# in python when indexing, always put in a list when asking for multiple objects - [obj, obj] rather than a tuple - (obj, obj) because you can technically have stuff named as tuples\n",
    "# normally want to set up the timestamp as the index in a dataframe - unique, easier to filter and search on\n",
    "# unique() can be really helpful to see all the possible values in a column or to see what constants there are. or categorical values\n",
    "# an index is an attribute of a dataframe, as are keys\n",
    "# using boolean operators to filter\n",
    "# doing something in-line rather than using a temporary variable\n",
    "# manipulating dataframes\n",
    "# df_column = df.pop('column') pops that column out of the dataframe as a new dataframe, removes it from the old dataframe\n"
   ]
  }
 ],
 "metadata": {
  "kernelspec": {
   "display_name": "eds217_2023",
   "language": "python",
   "name": "python3"
  },
  "language_info": {
   "codemirror_mode": {
    "name": "ipython",
    "version": 3
   },
   "file_extension": ".py",
   "mimetype": "text/x-python",
   "name": "python",
   "nbconvert_exporter": "python",
   "pygments_lexer": "ipython3",
   "version": "3.10.12"
  },
  "orig_nbformat": 4
 },
 "nbformat": 4,
 "nbformat_minor": 2
}
