{
 "cells": [
  {
   "cell_type": "markdown",
   "metadata": {
    "slideshow": {
     "slide_type": "slide"
    }
   },
   "source": [
    "| [⬅️ Previous Session](practice_1-1_variables.ipynb) | [🏠 Course Home](../index.ipynb) | [➡️ Next Session](practice_2-1_control_flow_statements.ipynb) |\n",
    "\n",
    "# Practice 1-2: Lists + Indexing\n"
   ]
  },
  {
   "cell_type": "markdown",
   "metadata": {},
   "source": [
    "\n",
    "## 📚  <b> Practice 1. </b> \n",
    "Define a new list of <b>floats</b> with <b>8 elements</b> called <code>my_list</code>. \n",
    "\n",
    "1. Find the 5th element in your list.\n",
    "2. Create a new list containing every other value in your original list.\n",
    "3. Using slicing and two different methods of indexing, remove the first and last values in your list.\n"
   ]
  },
  {
   "cell_type": "code",
   "execution_count": 32,
   "metadata": {},
   "outputs": [],
   "source": [
    "my_list = [1.0, 3.5, 6.8, 9.99, 10.01, 5.8, 6.4, 2.1]\n"
   ]
  },
  {
   "cell_type": "code",
   "execution_count": null,
   "metadata": {},
   "outputs": [],
   "source": [
    "\n",
    "1\n",
    "print(my_list[4])\n",
    "# 2\n",
    "new_list = list(my_list[::2])\n",
    "print(new_list)\n",
    "# 3\n",
    "my_list.pop(0)\n",
    "my_list.pop(-1)\n",
    "\n",
    "my_list.remove(3.5)\n",
    "my_list.remove(6.8)\n",
    "\n",
    "del my_list[0:-1]"
   ]
  },
  {
   "cell_type": "markdown",
   "metadata": {},
   "source": [
    "\n",
    "## 📚  <b> Practice 2. </b> \n",
    "Create the variable <code>str_list</code> and assign it to the list <code>['energy', 'water', 'carbon']</code>.\n",
    "Use indexing to extract the second letter of the third element ('a') in <code>str_list</code>.\n",
    "\n",
    "```python\n",
    "str_list = ['energy', 'water', 'carbon']\n",
    "```"
   ]
  },
  {
   "cell_type": "code",
   "execution_count": 17,
   "metadata": {},
   "outputs": [
    {
     "data": {
      "text/plain": [
       "'a'"
      ]
     },
     "execution_count": 17,
     "metadata": {},
     "output_type": "execute_result"
    }
   ],
   "source": [
    "str_list = ['energy', 'water', 'carbon']\n",
    "\n",
    "str_list[2][1]"
   ]
  },
  {
   "cell_type": "markdown",
   "metadata": {},
   "source": [
    "\n",
    "## 📚  <b> Practice 3. </b> \n",
    "Create a copy of <code>my_list</code>, which you assigned above. \n",
    "\n",
    "1. Using indexing or list operators, remove the first and last elements of your copied list.\n",
    "2. Sort both the original list and the copied list in reverse order.\n",
    "3. Use the <code>len()</code> function and a boolean operator to determine which list is longer.\n"
   ]
  },
  {
   "cell_type": "code",
   "execution_count": 40,
   "metadata": {},
   "outputs": [
    {
     "name": "stdout",
     "output_type": "stream",
     "text": [
      "[1.0, 3.5, 6.8, 9.99, 10.01, 5.8, 6.4, 2.1]\n"
     ]
    }
   ],
   "source": [
    "my_list_copy = list(my_list)\n",
    "print(my_list_copy)"
   ]
  },
  {
   "cell_type": "code",
   "execution_count": 41,
   "metadata": {},
   "outputs": [
    {
     "name": "stdout",
     "output_type": "stream",
     "text": [
      "[3.5, 6.8, 9.99, 10.01, 5.8, 6.4]\n"
     ]
    }
   ],
   "source": [
    "# 1\n",
    "my_list_copy.pop(0)\n",
    "my_list_copy.pop(-1)\n",
    "print(my_list_copy)"
   ]
  },
  {
   "cell_type": "code",
   "execution_count": 54,
   "metadata": {},
   "outputs": [
    {
     "name": "stdout",
     "output_type": "stream",
     "text": [
      "[10.01, 9.99, 6.8, 6.4, 5.8, 3.5, 2.1, 1.0]\n",
      "[10.01, 9.99, 6.8, 6.4, 5.8, 3.5]\n"
     ]
    },
    {
     "data": {
      "text/plain": [
       "[3.5, 5.8, 6.4, 6.8, 9.99, 10.01]"
      ]
     },
     "execution_count": 54,
     "metadata": {},
     "output_type": "execute_result"
    }
   ],
   "source": [
    "# 2\n",
    "my_list.sort(reverse=True)\n",
    "\n",
    "my_list_copy.sort(reverse=True)\n",
    "\n",
    "my_list_copy[::-1]"
   ]
  },
  {
   "cell_type": "code",
   "execution_count": 53,
   "metadata": {},
   "outputs": [
    {
     "name": "stdout",
     "output_type": "stream",
     "text": [
      "True\n"
     ]
    }
   ],
   "source": [
    "print(len(my_list) > len(my_list_copy))"
   ]
  },
  {
   "cell_type": "markdown",
   "metadata": {},
   "source": [
    "## 📚  <b> Practice 4. </b> \n",
    "\n",
    "1. Create a new list of 10 random floats between 0 and 1 called <code>rand_list</code>.\n",
    "1. Add <code>rand_list</code> and <code>my_list</code> together in a new list called <code>float_list</code>. \n",
    "1. Print the result.\n"
   ]
  },
  {
   "cell_type": "code",
   "execution_count": 48,
   "metadata": {},
   "outputs": [
    {
     "name": "stdout",
     "output_type": "stream",
     "text": [
      "[0.5, 0.78, 0.95, 0.68, 0.34, 0.56, 0.9, 0.21, 0.37, 0.88, 10.01, 9.99, 6.8, 6.4, 5.8, 3.5, 2.1, 1.0]\n"
     ]
    }
   ],
   "source": [
    "rand_list = [.50, .78, .95, .68, .34, .56, .90, .21, .37, .88]\n",
    "\n",
    "float_list = rand_list + my_list\n",
    "\n",
    "print(float_list)"
   ]
  },
  {
   "cell_type": "markdown",
   "metadata": {},
   "source": [
    "\n",
    "## 📚  <b> Practice 5. </b> \n",
    "Use the <code>range()</code> function to construct a list of all hundreds (e.g. 100, 200, etc.) between 0 and 1000, inclusive.\n"
   ]
  },
  {
   "cell_type": "code",
   "execution_count": 51,
   "metadata": {},
   "outputs": [
    {
     "name": "stdout",
     "output_type": "stream",
     "text": [
      "[0, 100, 200, 300, 400, 500, 600, 700, 800, 900, 1000]\n"
     ]
    }
   ],
   "source": [
    "print(list(range(0, 1001, 100)))"
   ]
  },
  {
   "cell_type": "markdown",
   "metadata": {},
   "source": [
    "<hr style=\"border-top: 1px solid gray; margin-top: 24px; margin-bottom: 1px\"></hr>"
   ]
  }
 ],
 "metadata": {
  "kernelspec": {
   "display_name": "Python 3",
   "language": "python",
   "name": "python3"
  },
  "language_info": {
   "codemirror_mode": {
    "name": "ipython",
    "version": 3
   },
   "file_extension": ".py",
   "mimetype": "text/x-python",
   "name": "python",
   "nbconvert_exporter": "python",
   "pygments_lexer": "ipython3",
   "version": "3.10.12"
  }
 },
 "nbformat": 4,
 "nbformat_minor": 2
}
