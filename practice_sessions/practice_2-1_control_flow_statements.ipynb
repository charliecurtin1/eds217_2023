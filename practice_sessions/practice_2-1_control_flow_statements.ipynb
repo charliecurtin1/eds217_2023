{
 "cells": [
  {
   "cell_type": "markdown",
   "metadata": {},
   "source": [
    "| [⬅️ Previous Session](practice_1-2_lists.ipynb) | [🏠 Course Home](../index.ipynb) | [➡️ Next Session](practice_2-2_structured_data.ipynb) |\n",
    "\n",
    "# Practice 2-1: Control Flow Statements\n",
    "\n",
    "![control.jpeg](assets/control.jpeg)\n",
    "\n",
    "<hr style=\"border-top: 1px solid gray; margin-top: 24px; margin-bottom: 1px\"></hr>"
   ]
  },
  {
   "cell_type": "markdown",
   "metadata": {},
   "source": [
    "\n",
    "## 📚  Practice 1\n",
    "\n",
    "In programs, <code>if</code> statements are useful for catching errors due to user input. \n",
    "\n",
    "Define two new variables based on user input: the first prompting for a temperature value and the second prompting for the units as \"F\" or \"C\". \n",
    "\n",
    "Using the equation below, write an <code>if</code> statement that converts the temperature input to °C if it was given in °F or to °F if given in °C. Recall that all variables assigned based on user input are strings. Be sure to comment your code.\n",
    "    \n",
    "Formula for conversion between °F and °C:\n",
    "    $$T_{^{\\circ} C} = (T_{^{\\circ} F} - 32) \\times 5/9$$\n"
   ]
  },
  {
   "cell_type": "markdown",
   "metadata": {},
   "source": [
    "Describe your strategy here:\n"
   ]
  },
  {
   "cell_type": "code",
   "execution_count": 20,
   "metadata": {},
   "outputs": [
    {
     "name": "stdout",
     "output_type": "stream",
     "text": [
      "89.6 degrees F\n"
     ]
    }
   ],
   "source": [
    "# Add your code here:\n",
    "temperature = float(input(\"What is the temperature?\"))\n",
    "units = input(\"Is the temperature in Celsius (C) or Fahrenheit (F)\")\n",
    "\n",
    "if units == \"F\": # if units matches F\n",
    "    print(((temperature - 32) * (5/9)), \"degrees C\") # conversion and printing \"degrees C\"\n",
    "elif units == \"C\": # if units matches C\n",
    "    print (((temperature * (9/5)) + 32), \"degrees F\") # conversion calculator and printing \"degrees F\"\n",
    "else:\n",
    "    print(\"Not a valid input\")\n"
   ]
  },
  {
   "cell_type": "code",
   "execution_count": 36,
   "metadata": {},
   "outputs": [
    {
     "name": "stdout",
     "output_type": "stream",
     "text": [
      "The new temp is 89.6\n"
     ]
    }
   ],
   "source": [
    "# a more concise way, but doesn't output the units\n",
    "temperature = float(input(\"What is the temperature?\"))\n",
    "units = input(\"Is the temperature in Celsius (C) or Fahrenheit (F)\")\n",
    "\n",
    "if units == \"F\":\n",
    "    converted_temp = (temperature - 32) * (5/9)\n",
    "elif units == \"C\":\n",
    "    converted_temp = (temperature * (9/5)) + 32\n",
    "else:\n",
    "    print(\"Not a valid input\")\n",
    "\n",
    "print(f\"The new temp is {converted_temp}\""
   ]
  },
  {
   "cell_type": "markdown",
   "metadata": {},
   "source": [
    "## 📚  Practice 2. \n",
    "\n",
    "Using nested <code>if</code> statements and your code from Practice question #1, convert the user input temperature to the opposite units (°F to °C or vice versa), print a statement to the user that reports the temperature in the converted units and indicates whether or not the temperature below freezing. \n",
    "\n",
    "Your print statement should look something like:\n",
    "\n",
    "<code>The temperature is {__}°C/F. It is (not) below freezing.</code>\n",
    "\n"
   ]
  },
  {
   "cell_type": "markdown",
   "metadata": {},
   "source": [
    "Describe your strategy here:\n"
   ]
  },
  {
   "cell_type": "code",
   "execution_count": 37,
   "metadata": {},
   "outputs": [
    {
     "name": "stdout",
     "output_type": "stream",
     "text": [
      "The temperature is 7.222222222222222 C. It is not below freezing.\n"
     ]
    }
   ],
   "source": [
    "# Add your code here:\n",
    "temperature = float(input(\"What is the temperature?\"))\n",
    "units = input(\"Is the temperature in Celsius (C) or Fahrenheit (F)\")\n",
    "\n",
    "temp_convC = ((temperature - 32) * (5/9))\n",
    "temp_convF = ((temperature * (9/5)) + 32)\n",
    "\n",
    "if units == \"F\":\n",
    "    if temp_convC > 0:\n",
    "        print(f\"The temperature is {temp_convC} C. It is not below freezing.\")\n",
    "    elif temp_convC < 0:\n",
    "        print(f\"The temperature is {temp_convC} C. It is below freezing.\")\n",
    "elif units == \"C\":\n",
    "    if temp_convF > 32:\n",
    "        print(f\"The temperature is {temp_convF} F. It is not below freezing.\")\n",
    "    elif temp_convF < 32:\n",
    "        print(f\"The temperature is {temp_convF} F. It is below freezing.\")"
   ]
  },
  {
   "cell_type": "markdown",
   "metadata": {},
   "source": [
    "## 📚  <b> Practice 3. </b> \n",
    "\n",
    "1. Create a list of the six organic elements sorted in alphabetical order and then print each element in the list.\n",
    "\n",
    "Given your sorted <code>org_elements</code> list and the corresponding list of atomic masses given in the cell below, use <code>enumerate()</code> in a <code>for</code> loop to print a formatted statement that expresses the atomic mass of of each element. \n",
    "\n",
    "Your formatted print statement should include the name of the element, the atomic mass rounded to 2 decimal places, and units.\n",
    "\n"
   ]
  },
  {
   "cell_type": "markdown",
   "metadata": {},
   "source": [
    "Describe your strategy here:\n",
    "\n"
   ]
  },
  {
   "cell_type": "code",
   "execution_count": 25,
   "metadata": {},
   "outputs": [
    {
     "name": "stdout",
     "output_type": "stream",
     "text": [
      "['C', 'H', 'N', 'O', 'P', 'S']\n",
      "The mass of C is 12.011 g/mol\n",
      "The mass of H is 1.00784 g/mol\n",
      "The mass of O is 14.0067 g/mol\n",
      "The mass of N is 15.999 g/mol\n",
      "The mass of P is 30.97376 g/mol\n",
      "The mass of S is 32.065 g/mol\n"
     ]
    }
   ],
   "source": [
    "atomic_mass = [12.011, 1.00784, 14.0067, 15.999, 30.97376, 32.065]  # g/mol\n",
    "org_elements = [\"C\", \"H\", \"O\", \"N\", \"P\", \"S\"]\n",
    "\n",
    "# in alphabetical order\n",
    "org_elements_sort = print(sorted(org_elements))\n",
    "\n",
    "# for loop part using zip()\n",
    "for mass, element in zip(atomic_mass, org_elements_sort):\n",
    "    print(f\"The mass of {element} is {mass} g/mol\")"
   ]
  },
  {
   "cell_type": "markdown",
   "metadata": {},
   "source": [
    "## 📚  <b> Practice 4. </b> \n",
    "The cell below contains monthly global land-ocean surface temperature in °F for each month during the years 2015-2022. \n",
    "\n",
    "Using  <code>enumerate()</code>, <code>zip()</code>, a nested <code>for</code> loop, or some combination of the three:\n",
    "\n",
    "<ol class=\"alpha\">\n",
    "<li> Calculate the monthly global land-ocean surface temperature anomalies (deviation from the mean) in °C for 2015-2018. The mean global land-ocean surface temperature calculated over the 20th century was 15.6°C.</li>\n",
    "<li> Create a new list with the mean monthly global surface temperature anomalies in °C for 2015-2023 (i.e. calculate the mean temperature anomaly for each month and put these values in a list). Use the command <code>np.mean()</code> to calculate mean values. </li> \n",
    "<li> Print each monthly mean value with the name of the month and units. </li>\n",
    "</ol>\n",
    "</div>"
   ]
  },
  {
   "cell_type": "code",
   "execution_count": 47,
   "metadata": {},
   "outputs": [],
   "source": [
    "# Import numpy for mean calculations\n",
    "import numpy as np\n",
    "\n",
    "tempF_2015 = [61.628, 61.7, 61.808, 61.448, 61.52, 61.538, 61.394, 61.52, 61.61, 62.042, 61.988, 62.168]\n",
    "tempF_2016 = [62.186, 62.546, 62.528, 62.06, 61.79, 61.52, 61.61, 61.916, 61.718, 61.682, 61.736, 61.628]\n",
    "tempF_2017 = [61.916, 62.132, 62.168, 61.772, 61.718, 61.376, 61.556, 61.646, 61.466, 61.7, 61.664, 61.754]\n",
    "tempF_2018 = [61.556, 61.61, 61.664, 61.682, 61.556, 61.466, 61.556, 61.448, 61.52, 61.916, 61.556, 61.718]\n",
    "tempF_2019 = [61.754, 61.79, 62.186, 61.898, 61.61, 61.7, 61.772, 61.79, 61.754, 61.898, 61.862, 62.042]\n",
    "tempF_2020 = [62.186, 62.312, 62.186, 62.114, 61.898, 61.736, 61.7, 61.646, 61.862, 61.664, 62.06, 61.538]\n",
    "tempF_2021 = [61.538, 61.232, 61.664, 61.43, 61.484, 61.592, 61.736, 61.556, 61.736, 61.88, 61.772, 61.61]\n",
    "\n",
    "# List of yearly lists (may or may not be useful)\n",
    "tempF_list = [tempF_2015, tempF_2016, tempF_2017, tempF_2018, tempF_2019, tempF_2020, tempF_2021]\n",
    "\n",
    "# List of years (probably useful)\n",
    "years = [2015, 2016, 2017, 2018, 2019, 2020, 2021]\n",
    "\n",
    "# list of months\n",
    "months = [\"Jan\", \"Feb\", \"Mar\", \"Apr\", \"May\", \"Jun\", \"Jul\", \"Aug\", \"Sep\", \"Oct\", \"Nov\", \"Dec\"]"
   ]
  },
  {
   "cell_type": "markdown",
   "metadata": {},
   "source": [
    "Describe your strategy here:\n",
    "\n"
   ]
  },
  {
   "cell_type": "code",
   "execution_count": 95,
   "metadata": {},
   "outputs": [
    {
     "name": "stdout",
     "output_type": "stream",
     "text": [
      "The Jan anomaly is 0.9685714285714315 degrees C\n",
      "The Feb anomaly is 1.0128571428571451 degrees C\n",
      "The Mar anomaly is 1.0828571428571419 degrees C\n",
      "The Apr anomaly is 0.9399999999999995 degrees C\n",
      "The May anomaly is 0.8742857142857172 degrees C\n",
      "The Jun anomaly is 0.8228571428571438 degrees C\n",
      "The Jul anomaly is 0.8542857142857105 degrees C\n",
      "The Aug anomaly is 0.8700000000000028 degrees C\n",
      "The Sep anomaly is 0.881428571428577 degrees C\n",
      "The Oct anomaly is 0.9700000000000006 degrees C\n",
      "The Nov anomaly is 0.95857142857143 degrees C\n",
      "The Dec anomaly is 0.944285714285714 degrees C\n"
     ]
    }
   ],
   "source": [
    "# Add your code here:\n",
    "# 1: calculating mean\n",
    "# essentially- zip lines up the values for temperature for each month (12 months, can think of it like 12 columns)\n",
    "## then- enumerate indexes those columns, and the months list matches those values, so you can use that index to call each month even though months isn't called in the for loop at all\n",
    "\n",
    "for i, temp in enumerate(zip(tempF_2015, tempF_2016, tempF_2017, tempF_2018, tempF_2019, tempF_2020, tempF_2021)):\n",
    "    monthly_mean = np.mean(temp)\n",
    "    meanC = ((monthly_mean - 32) * (5/9))\n",
    "    monthly_anomaly = (meanC - 15.6)\n",
    "    print(f\"The {months[i]} anomaly is {monthly_anomaly} degrees C\")"
   ]
  },
  {
   "cell_type": "markdown",
   "metadata": {},
   "source": [
    "## 📚  Practice 5.\n",
    "\n",
    "Use a list comprehension to print a list of all months that had an anomaly above the average monthly anomaly.\n",
    "\n",
    "Some helpful code is provided below:\n",
    "```python\n",
    "months = ['January', 'February', 'March', 'April', 'May', 'June', 'July', 'August', 'September', 'October', 'November', 'December']\n",
    "\n",
    "average_anomaly = np.mean(mean_monthly_anomalies)\n",
    "\n",
    "```\n",
    "Recall that list comprehensions can contain <code>if</code> statements. For example:\n",
    "\n",
    "[<code>item</code> for <code>item</code> in <code>list</code> if <code>item</code> > <code>value</code>]\n",
    "\n",
    "And they can also contain enumerate statements:\n",
    "\n",
    "[<code>item</code> for <code>index,item</code> in <code>enumerate(list)</code> if <code>other_list[index]</code> > <code>value</code>]"
   ]
  },
  {
   "cell_type": "markdown",
   "metadata": {},
   "source": [
    "Describe your strategy here:\n",
    "\n"
   ]
  },
  {
   "cell_type": "code",
   "execution_count": 69,
   "metadata": {},
   "outputs": [],
   "source": [
    "# Add your code here:"
   ]
  }
 ],
 "metadata": {
  "kernelspec": {
   "display_name": "eds217_2023",
   "language": "python",
   "name": "python3"
  },
  "language_info": {
   "codemirror_mode": {
    "name": "ipython",
    "version": 3
   },
   "file_extension": ".py",
   "mimetype": "text/x-python",
   "name": "python",
   "nbconvert_exporter": "python",
   "pygments_lexer": "ipython3",
   "version": "3.10.12"
  },
  "orig_nbformat": 4
 },
 "nbformat": 4,
 "nbformat_minor": 2
}
